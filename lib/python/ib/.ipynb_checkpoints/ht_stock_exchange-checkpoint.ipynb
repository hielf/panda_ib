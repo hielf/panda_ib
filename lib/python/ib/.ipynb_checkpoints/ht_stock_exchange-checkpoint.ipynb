{
 "cells": [
  {
   "cell_type": "code",
   "execution_count": 1,
   "metadata": {},
   "outputs": [],
   "source": [
    "import easytrader"
   ]
  },
  {
   "cell_type": "code",
   "execution_count": null,
   "metadata": {},
   "outputs": [],
   "source": [
    "user = easytrader.use('ht_client')"
   ]
  },
  {
   "cell_type": "code",
   "execution_count": 7,
   "metadata": {},
   "outputs": [],
   "source": [
    "user.prepare('/Users/ht/Documents/Python Scripts/ht_client_1.json')"
   ]
  },
  {
   "cell_type": "code",
   "execution_count": 11,
   "metadata": {},
   "outputs": [
    {
     "name": "stderr",
     "output_type": "stream",
     "text": [
      "C:\\Users\\ht\\AppData\\Local\\Continuum\\anaconda3\\lib\\site-packages\\pywinauto\\controls\\common_controls.py:1522: DeprecationWarning: Method .Next() is deprecated, use .next_item() instead.\n",
      "  cur_elem = cur_elem.Next()\n",
      "C:\\Users\\ht\\AppData\\Local\\Continuum\\anaconda3\\lib\\site-packages\\pywinauto\\controls\\common_controls.py:1522: DeprecationWarning: Method .Next() is deprecated, use .next_item() instead.\n",
      "  cur_elem = cur_elem.Next()\n",
      "C:\\Users\\ht\\AppData\\Local\\Continuum\\anaconda3\\lib\\site-packages\\pywinauto\\controls\\common_controls.py:1522: DeprecationWarning: Method .Next() is deprecated, use .next_item() instead.\n",
      "  cur_elem = cur_elem.Next()\n",
      "C:\\Users\\ht\\AppData\\Local\\Continuum\\anaconda3\\lib\\site-packages\\pywinauto\\controls\\common_controls.py:1522: DeprecationWarning: Method .Next() is deprecated, use .next_item() instead.\n",
      "  cur_elem = cur_elem.Next()\n",
      "C:\\Users\\ht\\AppData\\Local\\Continuum\\anaconda3\\lib\\site-packages\\pywinauto\\controls\\common_controls.py:1522: DeprecationWarning: Method .Next() is deprecated, use .next_item() instead.\n",
      "  cur_elem = cur_elem.Next()\n",
      "C:\\Users\\ht\\AppData\\Local\\Continuum\\anaconda3\\lib\\site-packages\\pywinauto\\controls\\common_controls.py:1522: DeprecationWarning: Method .Next() is deprecated, use .next_item() instead.\n",
      "  cur_elem = cur_elem.Next()\n",
      "C:\\Users\\ht\\AppData\\Local\\Continuum\\anaconda3\\lib\\site-packages\\pywinauto\\controls\\common_controls.py:1522: DeprecationWarning: Method .Next() is deprecated, use .next_item() instead.\n",
      "  cur_elem = cur_elem.Next()\n",
      "C:\\Users\\ht\\AppData\\Local\\Continuum\\anaconda3\\lib\\site-packages\\pywinauto\\controls\\common_controls.py:1522: DeprecationWarning: Method .Next() is deprecated, use .next_item() instead.\n",
      "  cur_elem = cur_elem.Next()\n",
      "C:\\Users\\ht\\AppData\\Local\\Continuum\\anaconda3\\lib\\site-packages\\pywinauto\\controls\\common_controls.py:1522: DeprecationWarning: Method .Next() is deprecated, use .next_item() instead.\n",
      "  cur_elem = cur_elem.Next()\n",
      "C:\\Users\\ht\\AppData\\Local\\Continuum\\anaconda3\\lib\\site-packages\\pywinauto\\controls\\common_controls.py:1522: DeprecationWarning: Method .Next() is deprecated, use .next_item() instead.\n",
      "  cur_elem = cur_elem.Next()\n",
      "C:\\Users\\ht\\AppData\\Local\\Continuum\\anaconda3\\lib\\site-packages\\pywinauto\\controls\\common_controls.py:1522: DeprecationWarning: Method .Next() is deprecated, use .next_item() instead.\n",
      "  cur_elem = cur_elem.Next()\n",
      "C:\\Users\\ht\\AppData\\Local\\Continuum\\anaconda3\\lib\\site-packages\\pywinauto\\controls\\common_controls.py:1522: DeprecationWarning: Method .Next() is deprecated, use .next_item() instead.\n",
      "  cur_elem = cur_elem.Next()\n",
      "C:\\Users\\ht\\AppData\\Local\\Continuum\\anaconda3\\lib\\site-packages\\pywinauto\\controls\\common_controls.py:1522: DeprecationWarning: Method .Next() is deprecated, use .next_item() instead.\n",
      "  cur_elem = cur_elem.Next()\n",
      "C:\\Users\\ht\\AppData\\Local\\Continuum\\anaconda3\\lib\\site-packages\\pywinauto\\controls\\common_controls.py:1522: DeprecationWarning: Method .Next() is deprecated, use .next_item() instead.\n",
      "  cur_elem = cur_elem.Next()\n",
      "C:\\Users\\ht\\AppData\\Local\\Continuum\\anaconda3\\lib\\site-packages\\pywinauto\\controls\\common_controls.py:1522: DeprecationWarning: Method .Next() is deprecated, use .next_item() instead.\n",
      "  cur_elem = cur_elem.Next()\n",
      "C:\\Users\\ht\\AppData\\Local\\Continuum\\anaconda3\\lib\\site-packages\\pywinauto\\controls\\common_controls.py:1522: DeprecationWarning: Method .Next() is deprecated, use .next_item() instead.\n",
      "  cur_elem = cur_elem.Next()\n",
      "C:\\Users\\ht\\AppData\\Local\\Continuum\\anaconda3\\lib\\site-packages\\pywinauto\\controls\\common_controls.py:1522: DeprecationWarning: Method .Next() is deprecated, use .next_item() instead.\n",
      "  cur_elem = cur_elem.Next()\n",
      "C:\\Users\\ht\\AppData\\Local\\Continuum\\anaconda3\\lib\\site-packages\\pywinauto\\controls\\common_controls.py:1522: DeprecationWarning: Method .Next() is deprecated, use .next_item() instead.\n",
      "  cur_elem = cur_elem.Next()\n",
      "C:\\Users\\ht\\AppData\\Local\\Continuum\\anaconda3\\lib\\site-packages\\pywinauto\\controls\\common_controls.py:1522: DeprecationWarning: Method .Next() is deprecated, use .next_item() instead.\n",
      "  cur_elem = cur_elem.Next()\n",
      "C:\\Users\\ht\\AppData\\Local\\Continuum\\anaconda3\\lib\\site-packages\\pywinauto\\controls\\common_controls.py:1522: DeprecationWarning: Method .Next() is deprecated, use .next_item() instead.\n",
      "  cur_elem = cur_elem.Next()\n",
      "C:\\Users\\ht\\AppData\\Local\\Continuum\\anaconda3\\lib\\site-packages\\pywinauto\\controls\\common_controls.py:1522: DeprecationWarning: Method .Next() is deprecated, use .next_item() instead.\n",
      "  cur_elem = cur_elem.Next()\n",
      "C:\\Users\\ht\\AppData\\Local\\Continuum\\anaconda3\\lib\\site-packages\\pywinauto\\controls\\common_controls.py:1522: DeprecationWarning: Method .Next() is deprecated, use .next_item() instead.\n",
      "  cur_elem = cur_elem.Next()\n",
      "C:\\Users\\ht\\AppData\\Local\\Continuum\\anaconda3\\lib\\site-packages\\pywinauto\\application.py:282: DeprecationWarning: WindowSpecification.Window() WindowSpecification.Window_(), WindowSpecification.window() and WindowSpecification.window_() are deprecated, please switch to WindowSpecification.child_window()\n",
      "  DeprecationWarning)\n",
      "C:\\Users\\ht\\AppData\\Local\\Continuum\\anaconda3\\lib\\site-packages\\pywinauto\\controls\\common_controls.py:1522: DeprecationWarning: Method .Next() is deprecated, use .next_item() instead.\n",
      "  cur_elem = cur_elem.Next()\n",
      "C:\\Users\\ht\\AppData\\Local\\Continuum\\anaconda3\\lib\\site-packages\\pywinauto\\controls\\common_controls.py:1522: DeprecationWarning: Method .Next() is deprecated, use .next_item() instead.\n",
      "  cur_elem = cur_elem.Next()\n",
      "C:\\Users\\ht\\AppData\\Local\\Continuum\\anaconda3\\lib\\site-packages\\pywinauto\\controls\\common_controls.py:1522: DeprecationWarning: Method .Next() is deprecated, use .next_item() instead.\n",
      "  cur_elem = cur_elem.Next()\n",
      "C:\\Users\\ht\\AppData\\Local\\Continuum\\anaconda3\\lib\\site-packages\\pywinauto\\controls\\common_controls.py:1522: DeprecationWarning: Method .Next() is deprecated, use .next_item() instead.\n",
      "  cur_elem = cur_elem.Next()\n",
      "C:\\Users\\ht\\AppData\\Local\\Continuum\\anaconda3\\lib\\site-packages\\pywinauto\\controls\\common_controls.py:1522: DeprecationWarning: Method .Next() is deprecated, use .next_item() instead.\n",
      "  cur_elem = cur_elem.Next()\n",
      "C:\\Users\\ht\\AppData\\Local\\Continuum\\anaconda3\\lib\\site-packages\\pywinauto\\controls\\common_controls.py:1522: DeprecationWarning: Method .Next() is deprecated, use .next_item() instead.\n",
      "  cur_elem = cur_elem.Next()\n",
      "C:\\Users\\ht\\AppData\\Local\\Continuum\\anaconda3\\lib\\site-packages\\pywinauto\\controls\\common_controls.py:1522: DeprecationWarning: Method .Next() is deprecated, use .next_item() instead.\n",
      "  cur_elem = cur_elem.Next()\n",
      "C:\\Users\\ht\\AppData\\Local\\Continuum\\anaconda3\\lib\\site-packages\\pywinauto\\controls\\common_controls.py:1522: DeprecationWarning: Method .Next() is deprecated, use .next_item() instead.\n",
      "  cur_elem = cur_elem.Next()\n",
      "C:\\Users\\ht\\AppData\\Local\\Continuum\\anaconda3\\lib\\site-packages\\pywinauto\\controls\\common_controls.py:1522: DeprecationWarning: Method .Next() is deprecated, use .next_item() instead.\n",
      "  cur_elem = cur_elem.Next()\n",
      "C:\\Users\\ht\\AppData\\Local\\Continuum\\anaconda3\\lib\\site-packages\\pywinauto\\controls\\common_controls.py:1522: DeprecationWarning: Method .Next() is deprecated, use .next_item() instead.\n",
      "  cur_elem = cur_elem.Next()\n",
      "C:\\Users\\ht\\AppData\\Local\\Continuum\\anaconda3\\lib\\site-packages\\pywinauto\\controls\\common_controls.py:1522: DeprecationWarning: Method .Next() is deprecated, use .next_item() instead.\n",
      "  cur_elem = cur_elem.Next()\n",
      "C:\\Users\\ht\\AppData\\Local\\Continuum\\anaconda3\\lib\\site-packages\\pywinauto\\controls\\common_controls.py:1522: DeprecationWarning: Method .Next() is deprecated, use .next_item() instead.\n",
      "  cur_elem = cur_elem.Next()\n",
      "C:\\Users\\ht\\AppData\\Local\\Continuum\\anaconda3\\lib\\site-packages\\pywinauto\\controls\\common_controls.py:1522: DeprecationWarning: Method .Next() is deprecated, use .next_item() instead.\n",
      "  cur_elem = cur_elem.Next()\n",
      "C:\\Users\\ht\\AppData\\Local\\Continuum\\anaconda3\\lib\\site-packages\\pywinauto\\controls\\common_controls.py:1522: DeprecationWarning: Method .Next() is deprecated, use .next_item() instead.\n",
      "  cur_elem = cur_elem.Next()\n",
      "C:\\Users\\ht\\AppData\\Local\\Continuum\\anaconda3\\lib\\site-packages\\pywinauto\\controls\\common_controls.py:1522: DeprecationWarning: Method .Next() is deprecated, use .next_item() instead.\n",
      "  cur_elem = cur_elem.Next()\n",
      "C:\\Users\\ht\\AppData\\Local\\Continuum\\anaconda3\\lib\\site-packages\\pywinauto\\controls\\common_controls.py:1522: DeprecationWarning: Method .Next() is deprecated, use .next_item() instead.\n",
      "  cur_elem = cur_elem.Next()\n",
      "C:\\Users\\ht\\AppData\\Local\\Continuum\\anaconda3\\lib\\site-packages\\pywinauto\\controls\\common_controls.py:1522: DeprecationWarning: Method .Next() is deprecated, use .next_item() instead.\n",
      "  cur_elem = cur_elem.Next()\n",
      "C:\\Users\\ht\\AppData\\Local\\Continuum\\anaconda3\\lib\\site-packages\\pywinauto\\controls\\common_controls.py:1522: DeprecationWarning: Method .Next() is deprecated, use .next_item() instead.\n",
      "  cur_elem = cur_elem.Next()\n",
      "C:\\Users\\ht\\AppData\\Local\\Continuum\\anaconda3\\lib\\site-packages\\pywinauto\\controls\\common_controls.py:1522: DeprecationWarning: Method .Next() is deprecated, use .next_item() instead.\n",
      "  cur_elem = cur_elem.Next()\n",
      "C:\\Users\\ht\\AppData\\Local\\Continuum\\anaconda3\\lib\\site-packages\\pywinauto\\controls\\common_controls.py:1522: DeprecationWarning: Method .Next() is deprecated, use .next_item() instead.\n",
      "  cur_elem = cur_elem.Next()\n",
      "C:\\Users\\ht\\AppData\\Local\\Continuum\\anaconda3\\lib\\site-packages\\pywinauto\\controls\\common_controls.py:1522: DeprecationWarning: Method .Next() is deprecated, use .next_item() instead.\n",
      "  cur_elem = cur_elem.Next()\n",
      "C:\\Users\\ht\\AppData\\Local\\Continuum\\anaconda3\\lib\\site-packages\\pywinauto\\controls\\common_controls.py:1522: DeprecationWarning: Method .Next() is deprecated, use .next_item() instead.\n",
      "  cur_elem = cur_elem.Next()\n"
     ]
    },
    {
     "name": "stdout",
     "output_type": "stream",
     "text": [
      "{'资金余额': 37083.6, '冻结资金': 0.0, '可用金额': 394.81, '可取金额': 394.81, '股票市值': 1708476.5, '总资产': 1791254.01}\n"
     ]
    },
    {
     "name": "stderr",
     "output_type": "stream",
     "text": [
      "C:\\Users\\ht\\AppData\\Local\\Continuum\\anaconda3\\lib\\site-packages\\pywinauto\\application.py:282: DeprecationWarning: WindowSpecification.Window() WindowSpecification.Window_(), WindowSpecification.window() and WindowSpecification.window_() are deprecated, please switch to WindowSpecification.child_window()\n",
      "  DeprecationWarning)\n"
     ]
    },
    {
     "name": "stdout",
     "output_type": "stream",
     "text": [
      "[{'成交日期': 20190222, '成交时间': '14:56:59', '证券代码': '131810', '证券名称': 'Ｒ-001', '操作': '卖出', '成交数量': 14670, '成交均价': 2.6310000000000002, '成交金额': 1467000.0, '交易市场': '深圳Ａ', '股东帐户': '0242099945', '成交编号': 35232, '合同编号': '33679', 'Unnamed: 12': ''}, {'成交日期': 20190222, '成交时间': '14:02:05', '证券代码': '510500', '证券名称': '500ETF', '操作': '买入', '成交数量': 1000, '成交均价': 5.072, '成交金额': 5072.0, '交易市场': '上海Ａ', '股东帐户': 'A222010237', '成交编号': 24982, '合同编号': '24731', 'Unnamed: 12': ''}, {'成交日期': 20190222, '成交时间': '14:02:04', '证券代码': '510050', '证券名称': '50ETF', '操作': '买入', '成交数量': 3600, '成交均价': 2.5780000000000003, '成交金额': 9280.8, '交易市场': '上海Ａ', '股东帐户': 'A222010237', '成交编号': 24979, '合同编号': '24714', 'Unnamed: 12': ''}, {'成交日期': 20190222, '成交时间': '14:02:03', '证券代码': '510500', '证券名称': '500ETF', '操作': '买入', '成交数量': 500, '成交均价': 5.072, '成交金额': 2536.0, '交易市场': '上海Ａ', '股东帐户': 'A222010237', '成交编号': 24977, '合同编号': '24731', 'Unnamed: 12': ''}, {'成交日期': 20190222, '成交时间': '14:02:03', '证券代码': '510500', '证券名称': '500ETF', '操作': '买入', '成交数量': 500, '成交均价': 5.072, '成交金额': 2536.0, '交易市场': '上海Ａ', '股东帐户': 'A222010237', '成交编号': 24976, '合同编号': '24731', 'Unnamed: 12': ''}, {'成交日期': 20190222, '成交时间': '13:52:41', '证券代码': '510500', '证券名称': '500ETF', '操作': '买入', '成交数量': 4000, '成交均价': 5.046, '成交金额': 20184.0, '交易市场': '上海Ａ', '股东帐户': 'A222010237', '成交编号': 23768, '合同编号': '23231', 'Unnamed: 12': ''}, {'成交日期': 20190222, '成交时间': '13:49:21', '证券代码': '159915', '证券名称': '创业板', '操作': '买入', '成交数量': 14400, '成交均价': 1.375, '成交金额': 19800.0, '交易市场': '深圳Ａ', '股东帐户': '0242099945', '成交编号': 23416, '合同编号': '23248', 'Unnamed: 12': ''}, {'成交日期': 20190222, '成交时间': '13:47:56', '证券代码': '510300', '证券名称': '300ETF', '操作': '买入', '成交数量': 3600, '成交均价': 3.458, '成交金额': 12448.8, '交易市场': '上海Ａ', '股东帐户': 'A222010237', '成交编号': 23220, '合同编号': '23256', 'Unnamed: 12': ''}, {'成交日期': 20190222, '成交时间': '13:47:50', '证券代码': '159915', '证券名称': '创业板', '操作': '买入', '成交数量': 7200, '成交均价': 1.3769999999999998, '成交金额': 9914.4, '交易市场': '深圳Ａ', '股东帐户': '0242099945', '成交编号': 23200, '合同编号': '23241', 'Unnamed: 12': ''}, {'成交日期': 20190222, '成交时间': '13:47:44', '证券代码': '510500', '证券名称': '500ETF', '操作': '买入', '成交数量': 900, '成交均价': 5.052, '成交金额': 4546.8, '交易市场': '上海Ａ', '股东帐户': 'A222010237', '成交编号': 23183, '合同编号': '23225', 'Unnamed: 12': ''}, {'成交日期': 20190222, '成交时间': '13:47:44', '证券代码': '510500', '证券名称': '500ETF', '操作': '买入', '成交数量': 200, '成交均价': 5.052, '成交金额': 1010.4, '交易市场': '上海Ａ', '股东帐户': 'A222010237', '成交编号': 23182, '合同编号': '23225', 'Unnamed: 12': ''}, {'成交日期': 20190222, '成交时间': '13:47:44', '证券代码': '510500', '证券名称': '500ETF', '操作': '买入', '成交数量': 900, '成交均价': 5.052, '成交金额': 4546.8, '交易市场': '上海Ａ', '股东帐户': 'A222010237', '成交编号': 23181, '合同编号': '23225', 'Unnamed: 12': ''}, {'成交日期': 20190222, '成交时间': '13:47:38', '证券代码': '510050', '证券名称': '50ETF', '操作': '买入', '成交数量': 1400, '成交均价': 2.573, '成交金额': 3602.2, '交易市场': '上海Ａ', '股东帐户': 'A222010237', '成交编号': 23170, '合同编号': '23212', 'Unnamed: 12': ''}, {'成交日期': 20190222, '成交时间': '13:47:38', '证券代码': '510050', '证券名称': '50ETF', '操作': '买入', '成交数量': 2200, '成交均价': 2.573, '成交金额': 5660.6, '交易市场': '上海Ａ', '股东帐户': 'A222010237', '成交编号': 23169, '合同编号': '23212', 'Unnamed: 12': ''}, {'成交日期': 20190222, '成交时间': '11:22:45', '证券代码': '510500', '证券名称': '500ETF', '操作': '买入', '成交数量': 2000, '成交均价': 5.005, '成交金额': 10010.0, '交易市场': '上海Ａ', '股东帐户': 'A222010237', '成交编号': 16901, '合同编号': '17102', 'Unnamed: 12': ''}, {'成交日期': 20190222, '成交时间': '10:32:09', '证券代码': '159915', '证券名称': '创业板', '操作': '卖出', '成交数量': 400, '成交均价': 1.348, '成交金额': 539.2, '交易市场': '深圳Ａ', '股东帐户': '0242099945', '成交编号': 12284, '合同编号': '12945', 'Unnamed: 12': ''}, {'成交日期': 20190222, '成交时间': '10:32:03', '证券代码': '510500', '证券名称': '500ETF', '操作': '卖出', '成交数量': 1900, '成交均价': 4.974, '成交金额': 9450.6, '交易市场': '上海Ａ', '股东帐户': 'A222010237', '成交编号': 12273, '合同编号': '12931', 'Unnamed: 12': ''}, {'成交日期': 20190222, '成交时间': '10:32:03', '证券代码': '510500', '证券名称': '500ETF', '操作': '卖出', '成交数量': 100, '成交均价': 4.974, '成交金额': 497.4, '交易市场': '上海Ａ', '股东帐户': 'A222010237', '成交编号': 12272, '合同编号': '12931', 'Unnamed: 12': ''}, {'成交日期': 20190222, '成交时间': '10:24:25', '证券代码': '510500', '证券名称': '500ETF', '操作': '买入', '成交数量': 2000, '成交均价': 4.981, '成交金额': 9962.0, '交易市场': '上海Ａ', '股东帐户': 'A222010237', '成交编号': 11190, '合同编号': '11230', 'Unnamed: 12': ''}, {'成交日期': 20190222, '成交时间': '10:21:52', '证券代码': '159915', '证券名称': '创业板', '操作': '卖出', '成交数量': 14400, '成交均价': 1.358, '成交金额': 19555.2, '交易市场': '深圳Ａ', '股东帐户': '0242099945', '成交编号': 10881, '合同编号': '11248', 'Unnamed: 12': ''}, {'成交日期': 20190222, '成交时间': '10:06:43', '证券代码': '510500', '证券名称': '500ETF', '操作': '卖出', '成交数量': 8000, '成交均价': 4.996, '成交金额': 39968.0, '交易市场': '上海Ａ', '股东帐户': 'A222010237', '成交编号': 9132, '合同编号': '9606', 'Unnamed: 12': ''}, {'成交日期': 20190222, '成交时间': '10:06:10', '证券代码': '510300', '证券名称': '300ETF', '操作': '卖出', '成交数量': 3700, '成交均价': 3.426, '成交金额': 12676.2, '交易市场': '上海Ａ', '股东帐户': 'A222010237', '成交编号': 9066, '合同编号': '9668', 'Unnamed: 12': ''}, {'成交日期': 20190222, '成交时间': '10:05:48', '证券代码': '510050', '证券名称': '50ETF', '操作': '卖出', '成交数量': 300, '成交均价': 2.555, '成交金额': 766.5, '交易市场': '上海Ａ', '股东帐户': 'A222010237', '成交编号': 9025, '合同编号': '9660', 'Unnamed: 12': ''}, {'成交日期': 20190222, '成交时间': '10:05:48', '证券代码': '510050', '证券名称': '50ETF', '操作': '卖出', '成交数量': 3300, '成交均价': 2.555, '成交金额': 8431.5, '交易市场': '上海Ａ', '股东帐户': 'A222010237', '成交编号': 9023, '合同编号': '9660', 'Unnamed: 12': ''}, {'成交日期': 20190222, '成交时间': '10:03:46', '证券代码': '159915', '证券名称': '创业板', '操作': '卖出', '成交数量': 14900, '成交均价': 1.357, '成交金额': 20219.3, '交易市场': '深圳Ａ', '股东帐户': '0242099945', '成交编号': 8752, '合同编号': '9623', 'Unnamed: 12': ''}, {'成交日期': 20190222, '成交时间': '10:03:20', '证券代码': '159915', '证券名称': '创业板', '操作': '卖出', '成交数量': 10000, '成交均价': 1.357, '成交金额': 13570.0, '交易市场': '深圳Ａ', '股东帐户': '0242099945', '成交编号': 8687, '合同编号': '9623', 'Unnamed: 12': ''}, {'成交日期': 20190222, '成交时间': '10:03:17', '证券代码': '159915', '证券名称': '创业板', '操作': '卖出', '成交数量': 300, '成交均价': 1.357, '成交金额': 407.1, '交易市场': '深圳Ａ', '股东帐户': '0242099945', '成交编号': 8680, '合同编号': '9623', 'Unnamed: 12': ''}, {'成交日期': 20190222, '成交时间': '10:03:15', '证券代码': '159915', '证券名称': '创业板', '操作': '卖出', '成交数量': 500, '成交均价': 1.357, '成交金额': 678.5, '交易市场': '深圳Ａ', '股东帐户': '0242099945', '成交编号': 8671, '合同编号': '9623', 'Unnamed: 12': ''}, {'成交日期': 20190222, '成交时间': '10:03:14', '证券代码': '159915', '证券名称': '创业板', '操作': '卖出', '成交数量': 3100, '成交均价': 1.357, '成交金额': 4206.7, '交易市场': '深圳Ａ', '股东帐户': '0242099945', '成交编号': 8670, '合同编号': '9623', 'Unnamed: 12': ''}, {'成交日期': 20190222, '成交时间': '10:02:59', '证券代码': '510300', '证券名称': '300ETF', '操作': '卖出', '成交数量': 7200, '成交均价': 3.423, '成交金额': 24645.6, '交易市场': '上海Ａ', '股东帐户': 'A222010237', '成交编号': 8636, '合同编号': '9628', 'Unnamed: 12': ''}, {'成交日期': 20190222, '成交时间': '10:02:53', '证券代码': '159915', '证券名称': '创业板', '操作': '卖出', '成交数量': 14400, '成交均价': 1.3559999999999999, '成交金额': 19526.4, '交易市场': '深圳Ａ', '股东帐户': '0242099945', '成交编号': 8625, '合同编号': '9615', 'Unnamed: 12': ''}, {'成交日期': 20190222, '成交时间': '10:02:47', '证券代码': '510500', '证券名称': '500ETF', '操作': '卖出', '成交数量': 4000, '成交均价': 4.988, '成交金额': 19952.0, '交易市场': '上海Ａ', '股东帐户': 'A222010237', '成交编号': 8610, '合同编号': '9600', 'Unnamed: 12': ''}, {'成交日期': 20190222, '成交时间': '10:02:40', '证券代码': '510050', '证券名称': '50ETF', '操作': '卖出', '成交数量': 7200, '成交均价': 2.551, '成交金额': 18367.2, '交易市场': '上海Ａ', '股东帐户': 'A222010237', '成交编号': 8595, '合同编号': '9582', 'Unnamed: 12': ''}, {'成交日期': 20190222, '成交时间': '09:54:48', '证券代码': '510050', '证券名称': '50ETF', '操作': '买入', '成交数量': 3600, '成交均价': 2.551, '成交金额': 9183.6, '交易市场': '上海Ａ', '股东帐户': 'A222010237', '成交编号': 7281, '合同编号': '6712', 'Unnamed: 12': ''}, {'成交日期': 20190222, '成交时间': '09:54:23', '证券代码': '510500', '证券名称': '500ETF', '操作': '买入', '成交数量': 300, '成交均价': 4.974, '成交金额': 1492.2, '交易市场': '上海Ａ', '股东帐户': 'A222010237', '成交编号': 7175, '合同编号': '6774', 'Unnamed: 12': ''}, {'成交日期': 20190222, '成交时间': '09:54:22', '证券代码': '510500', '证券名称': '500ETF', '操作': '买入', '成交数量': 3700, '成交均价': 4.974, '成交金额': 18403.8, '交易市场': '上海Ａ', '股东帐户': 'A222010237', '成交编号': 7172, '合同编号': '6774', 'Unnamed: 12': ''}, {'成交日期': 20190222, '成交时间': '09:50:19', '证券代码': '510500', '证券名称': '500ETF', '操作': '买入', '成交数量': 2000, '成交均价': 4.984, '成交金额': 9968.0, '交易市场': '上海Ａ', '股东帐户': 'A222010237', '成交编号': 6391, '合同编号': '6751', 'Unnamed: 12': ''}, {'成交日期': 20190222, '成交时间': '09:47:55', '证券代码': '159915', '证券名称': '创业板', '操作': '卖出', '成交数量': 14400, '成交均价': 1.3619999999999999, '成交金额': 19612.8, '交易市场': '深圳Ａ', '股东帐户': '0242099945', '成交编号': 5976, '合同编号': '6783', 'Unnamed: 12': ''}, {'成交日期': 20190222, '成交时间': '09:46:59', '证券代码': '510300', '证券名称': '300ETF', '操作': '卖出', '成交数量': 7200, '成交均价': 3.426, '成交金额': 24667.2, '交易市场': '上海Ａ', '股东帐户': 'A222010237', '成交编号': 5795, '合同编号': '6814', 'Unnamed: 12': ''}]\n"
     ]
    },
    {
     "name": "stderr",
     "output_type": "stream",
     "text": [
      "C:\\Users\\ht\\AppData\\Local\\Continuum\\anaconda3\\lib\\site-packages\\pywinauto\\controls\\common_controls.py:1522: DeprecationWarning: Method .Next() is deprecated, use .next_item() instead.\n",
      "  cur_elem = cur_elem.Next()\n",
      "C:\\Users\\ht\\AppData\\Local\\Continuum\\anaconda3\\lib\\site-packages\\pywinauto\\controls\\common_controls.py:1522: DeprecationWarning: Method .Next() is deprecated, use .next_item() instead.\n",
      "  cur_elem = cur_elem.Next()\n",
      "C:\\Users\\ht\\AppData\\Local\\Continuum\\anaconda3\\lib\\site-packages\\pywinauto\\controls\\common_controls.py:1522: DeprecationWarning: Method .Next() is deprecated, use .next_item() instead.\n",
      "  cur_elem = cur_elem.Next()\n",
      "C:\\Users\\ht\\AppData\\Local\\Continuum\\anaconda3\\lib\\site-packages\\pywinauto\\controls\\common_controls.py:1522: DeprecationWarning: Method .Next() is deprecated, use .next_item() instead.\n",
      "  cur_elem = cur_elem.Next()\n",
      "C:\\Users\\ht\\AppData\\Local\\Continuum\\anaconda3\\lib\\site-packages\\pywinauto\\controls\\common_controls.py:1522: DeprecationWarning: Method .Next() is deprecated, use .next_item() instead.\n",
      "  cur_elem = cur_elem.Next()\n",
      "C:\\Users\\ht\\AppData\\Local\\Continuum\\anaconda3\\lib\\site-packages\\pywinauto\\controls\\common_controls.py:1522: DeprecationWarning: Method .Next() is deprecated, use .next_item() instead.\n",
      "  cur_elem = cur_elem.Next()\n",
      "C:\\Users\\ht\\AppData\\Local\\Continuum\\anaconda3\\lib\\site-packages\\pywinauto\\controls\\common_controls.py:1522: DeprecationWarning: Method .Next() is deprecated, use .next_item() instead.\n",
      "  cur_elem = cur_elem.Next()\n",
      "C:\\Users\\ht\\AppData\\Local\\Continuum\\anaconda3\\lib\\site-packages\\pywinauto\\controls\\common_controls.py:1522: DeprecationWarning: Method .Next() is deprecated, use .next_item() instead.\n",
      "  cur_elem = cur_elem.Next()\n",
      "C:\\Users\\ht\\AppData\\Local\\Continuum\\anaconda3\\lib\\site-packages\\pywinauto\\controls\\common_controls.py:1522: DeprecationWarning: Method .Next() is deprecated, use .next_item() instead.\n",
      "  cur_elem = cur_elem.Next()\n",
      "C:\\Users\\ht\\AppData\\Local\\Continuum\\anaconda3\\lib\\site-packages\\pywinauto\\controls\\common_controls.py:1522: DeprecationWarning: Method .Next() is deprecated, use .next_item() instead.\n",
      "  cur_elem = cur_elem.Next()\n",
      "C:\\Users\\ht\\AppData\\Local\\Continuum\\anaconda3\\lib\\site-packages\\pywinauto\\controls\\common_controls.py:1522: DeprecationWarning: Method .Next() is deprecated, use .next_item() instead.\n",
      "  cur_elem = cur_elem.Next()\n",
      "C:\\Users\\ht\\AppData\\Local\\Continuum\\anaconda3\\lib\\site-packages\\pywinauto\\controls\\common_controls.py:1522: DeprecationWarning: Method .Next() is deprecated, use .next_item() instead.\n",
      "  cur_elem = cur_elem.Next()\n",
      "C:\\Users\\ht\\AppData\\Local\\Continuum\\anaconda3\\lib\\site-packages\\pywinauto\\controls\\common_controls.py:1522: DeprecationWarning: Method .Next() is deprecated, use .next_item() instead.\n",
      "  cur_elem = cur_elem.Next()\n",
      "C:\\Users\\ht\\AppData\\Local\\Continuum\\anaconda3\\lib\\site-packages\\pywinauto\\controls\\common_controls.py:1522: DeprecationWarning: Method .Next() is deprecated, use .next_item() instead.\n",
      "  cur_elem = cur_elem.Next()\n",
      "C:\\Users\\ht\\AppData\\Local\\Continuum\\anaconda3\\lib\\site-packages\\pywinauto\\controls\\common_controls.py:1522: DeprecationWarning: Method .Next() is deprecated, use .next_item() instead.\n",
      "  cur_elem = cur_elem.Next()\n",
      "C:\\Users\\ht\\AppData\\Local\\Continuum\\anaconda3\\lib\\site-packages\\pywinauto\\controls\\common_controls.py:1522: DeprecationWarning: Method .Next() is deprecated, use .next_item() instead.\n",
      "  cur_elem = cur_elem.Next()\n",
      "C:\\Users\\ht\\AppData\\Local\\Continuum\\anaconda3\\lib\\site-packages\\pywinauto\\controls\\common_controls.py:1522: DeprecationWarning: Method .Next() is deprecated, use .next_item() instead.\n",
      "  cur_elem = cur_elem.Next()\n",
      "C:\\Users\\ht\\AppData\\Local\\Continuum\\anaconda3\\lib\\site-packages\\pywinauto\\controls\\common_controls.py:1522: DeprecationWarning: Method .Next() is deprecated, use .next_item() instead.\n",
      "  cur_elem = cur_elem.Next()\n",
      "C:\\Users\\ht\\AppData\\Local\\Continuum\\anaconda3\\lib\\site-packages\\pywinauto\\controls\\common_controls.py:1522: DeprecationWarning: Method .Next() is deprecated, use .next_item() instead.\n",
      "  cur_elem = cur_elem.Next()\n",
      "C:\\Users\\ht\\AppData\\Local\\Continuum\\anaconda3\\lib\\site-packages\\pywinauto\\controls\\common_controls.py:1522: DeprecationWarning: Method .Next() is deprecated, use .next_item() instead.\n",
      "  cur_elem = cur_elem.Next()\n",
      "C:\\Users\\ht\\AppData\\Local\\Continuum\\anaconda3\\lib\\site-packages\\pywinauto\\controls\\common_controls.py:1522: DeprecationWarning: Method .Next() is deprecated, use .next_item() instead.\n",
      "  cur_elem = cur_elem.Next()\n",
      "C:\\Users\\ht\\AppData\\Local\\Continuum\\anaconda3\\lib\\site-packages\\pywinauto\\controls\\common_controls.py:1522: DeprecationWarning: Method .Next() is deprecated, use .next_item() instead.\n",
      "  cur_elem = cur_elem.Next()\n",
      "C:\\Users\\ht\\AppData\\Local\\Continuum\\anaconda3\\lib\\site-packages\\pywinauto\\application.py:282: DeprecationWarning: WindowSpecification.Window() WindowSpecification.Window_(), WindowSpecification.window() and WindowSpecification.window_() are deprecated, please switch to WindowSpecification.child_window()\n",
      "  DeprecationWarning)\n"
     ]
    },
    {
     "name": "stdout",
     "output_type": "stream",
     "text": [
      "[{'证券代码': '510050', '证券名称': '50ETF', '股票余额': 10800, '可用余额': 0, '冻结数量': 0, '成本价': 2.552, '保本价': 2.553, '市价': 2.6180000000000003, '盈亏比(%)': 2.56, '盈亏': 704.318, '市值': 28274.4, '交易市场': '上海Ａ', '股东帐户': 'A222010237', '在途数量': 10800, 'Unnamed: 14': ''}, {'证券代码': '510300', '证券名称': '300ETF', '股票余额': 3600, '可用余额': 0, '冻结数量': 0, '成本价': 2.512, '保本价': 2.513, '市价': 3.5260000000000002, '盈亏比(%)': 40.32, '盈亏': 3646.592, '市值': 12693.6, '交易市场': '上海Ａ', '股东帐户': 'A222010237', '在途数量': 3600, 'Unnamed: 14': ''}, {'证券代码': '510500', '证券名称': '500ETF', '股票余额': 18000, '可用余额': 0, '冻结数量': 0, '成本价': 4.987, '保本价': 4.988, '市价': 5.136, '盈亏比(%)': 2.96, '盈亏': 2654.2659999999996, '市值': 92448.0, '交易市场': '上海Ａ', '股东帐户': 'A222010237', '在途数量': 18000, 'Unnamed: 14': ''}, {'证券代码': '510880', '证券名称': '红利ETF', '股票余额': 28700, '可用余额': 28700, '冻结数量': 0, '成本价': 2.2840000000000003, '保本价': 2.285, '市价': 2.707, '盈亏比(%)': 18.48, '盈亏': 12116.793, '市值': 77690.9, '交易市场': '上海Ａ', '股东帐户': 'A222010237', '在途数量': 0, 'Unnamed: 14': ''}, {'证券代码': '131990', '证券名称': '标准券', '股票余额': 14670, '可用余额': 0, '冻结数量': 0, '成本价': 0.0, '保本价': 0.0, '市价': 100.0, '盈亏比(%)': 0.0, '盈亏': 0.0, '市值': 1467000.0, '交易市场': '深圳Ａ', '股东帐户': '0242099945', '在途数量': 14670, 'Unnamed: 14': ''}, {'证券代码': '159915', '证券名称': '创业板', '股票余额': 21600, '可用余额': 0, '冻结数量': 0, '成本价': 1.317, '保本价': 1.317, '市价': 1.406, '盈亏比(%)': 6.73, '盈亏': 1913.289, '市值': 30369.6, '交易市场': '深圳Ａ', '股东帐户': '0242099945', '在途数量': 21600, 'Unnamed: 14': ''}]\n"
     ]
    }
   ],
   "source": [
    "print(user.balance)\n",
    "\n",
    "print(user.today_trades)\n",
    "\n",
    "print(user.position)"
   ]
  },
  {
   "cell_type": "code",
   "execution_count": null,
   "metadata": {},
   "outputs": [],
   "source": [
    "user.exit()"
   ]
  }
 ],
 "metadata": {
  "kernelspec": {
   "display_name": "Python 3",
   "language": "python",
   "name": "python3"
  },
  "language_info": {
   "codemirror_mode": {
    "name": "ipython",
    "version": 3
   },
   "file_extension": ".py",
   "mimetype": "text/x-python",
   "name": "python",
   "nbconvert_exporter": "python",
   "pygments_lexer": "ipython3",
   "version": "3.7.1"
  }
 },
 "nbformat": 4,
 "nbformat_minor": 2
}
